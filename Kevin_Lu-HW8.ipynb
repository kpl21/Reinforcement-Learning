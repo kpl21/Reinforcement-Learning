{
 "cells": [
  {
   "cell_type": "markdown",
   "metadata": {},
   "source": [
    "<center>\n",
    "    COMP4600/5500 - Reinforcement Learning\n",
    "\n",
    "# Homework 8 - Policy Gradient\n",
    "\n",
    "### Due: Monday, November 29th 11:59 pm\n",
    "    \n",
    "</center>"
   ]
  },
  {
   "cell_type": "markdown",
   "metadata": {},
   "source": [
    "Student Name: Kevin Lu"
   ]
  },
  {
   "cell_type": "markdown",
   "metadata": {},
   "source": [
    "The purpose of this project is to study different properties of Policy Gradient algorithms with Function Approximation."
   ]
  },
  {
   "cell_type": "code",
   "execution_count": 1,
   "metadata": {},
   "outputs": [
    {
     "name": "stdout",
     "output_type": "stream",
     "text": [
      "pygame 2.0.2 (SDL 2.0.16, Python 3.7.9)\n",
      "Hello from the pygame community. https://www.pygame.org/contribute.html\n"
     ]
    }
   ],
   "source": [
    "# You are allowed to use the following modules\n",
    "import numpy as np\n",
    "import matplotlib.pyplot as plt\n",
    "from mountain_car import MountainCar\n",
    "import pygame as pg"
   ]
  },
  {
   "attachments": {
    "mc.png": {
     "image/png": "[encoded data removed]"
    }
   },
   "cell_type": "markdown",
   "metadata": {},
   "source": [
    "## Task description\n",
    "Consider the task of driving an underpowered car up a steep mountain road, as suggested by the diagram in the upper left of the following figure. The difficulty is that gravity is stronger than the car's engine, and even at full throttle the car cannot accelerate up the steep slope. The only solution is to first move away from the goal and up the opposite slope on the left. Then by applying full throttle the car can build up enough inertia to carry it up the steep slope even though it is slowing down the whole way.\n",
    "\n",
    "\n",
    "![mc.png](attachment:mc.png)\n",
    "\n",
    "\n",
    "This is a continuous control task where things have to get worse in a sense (farther from the goal) before they can get better. The reward in this problem is -1 on all time steps until the car moves past its goal position at the top of the mountain, which ends the episode. There are three possible actions: full throttle forward (+1), full throttle reverse (-1), and zero throttle (0). The car moves according to a simplified physics. Its position $x_t$ and velocity $\\dot{x}_t$ are updated by\n",
    "\n",
    "$x_{t+1} \\doteq \\text{bound}[x_t + \\dot{x}_{t+1}]$\n",
    "\n",
    "$\\dot{x}_{t+1} \\doteq \\text{bound}[\\dot{x}_t + 0.001 A_t - 0.0025 \\cos(3x_t)]$\n",
    "\n",
    "\n",
    "where the \\textit{bound} operation enforces $-1.2 \\le x_{t+1} \\le 0.5$ and $-0.07 \\le \\dot{x}_{t+1} \\le 0.07$. In addition, when $x_{t+1}$ reached the left bound, $\\dot{x}_{t+1}$ was reset to zero. When it reached the right bound, the goal was reached and the episode was terminated. Each episode starts from a random position $x_t \\in [-0.6, -0.4)$ and zero velocity.\n",
    "\n",
    "\n",
    "\n",
    "\n",
    "**Note:** You have been given a simple implementation of the Mountain Car task. You can use your implementation of the function approximation from Homework 6, or implement a new one. \n"
   ]
  },
  {
   "cell_type": "code",
   "execution_count": 2,
   "metadata": {},
   "outputs": [],
   "source": [
    "WIDTH = 640\n",
    "HEIGHT = 480\n",
    "CENTER = 6\n",
    "TS = 10\n",
    "bg_color = pg.Color(0,0,0)\n",
    "agent_color = pg.Color(120,120,0)\n",
    "\n",
    "class Agent:\n",
    "\n",
    "    def __init__(self, scr, matrix):\n",
    "        self.w = WIDTH//40\n",
    "        self.h = HEIGHT//30\n",
    "        self.x = (5*WIDTH//8)*matrix[0] + WIDTH//1.52\n",
    "        self.y = -((HEIGHT//4)+(HEIGHT//1.5)*(np.sin(3*matrix[0]) * 0.45 + 0.55)) + HEIGHT//0.86\n",
    "        self.matrix = matrix\n",
    "        self.scr = scr\n",
    "        self.my_rect = pg.Rect((self.x, self.y), (self.w, self.h))\n",
    "\n",
    "    def show(self, color):\n",
    "        self.my_rect = pg.Rect((self.x,self.y), (self.w, self.h))\n",
    "        pg.draw.rect(self.scr, color, self.my_rect)\n",
    "\n",
    "    def move(self, s):\n",
    "        pg.time.wait(TS)\n",
    "        self.x = (5*WIDTH//8)*self.matrix[s] + WIDTH//1.52\n",
    "        self.y = -((HEIGHT//4)+(HEIGHT//1.5)*(np.sin(3*self.matrix[s]) * 0.45 + 0.55)) + HEIGHT//0.86\n",
    "        self.show(agent_color)\n",
    "\n",
    "\n",
    "def animate(m):\n",
    "    pg.init()\n",
    "    screen = pg.display.set_mode([WIDTH, HEIGHT])\n",
    "    agent = Agent(screen, m)\n",
    "    bg = pg.Surface((agent.w, agent.h))\n",
    "    bg = bg.convert()\n",
    "    bg.fill(bg_color)\n",
    "    screen.blit(bg, (agent.x, agent.y))\n",
    "    clock = pg.time.Clock()\n",
    "    plotPoints = []\n",
    "    x = np.arange(0, WIDTH, 0.01)\n",
    "    y = np.sin(3 * x) * 0.45 + 0.55\n",
    "    for x0, y0 in zip(x, y):\n",
    "        plotPoints.append([(5 * WIDTH // 8) * x0, (HEIGHT // 4) + (HEIGHT // 1.5) * y0])\n",
    "    pg.draw.lines(screen, [0, 0, 255], False, plotPoints, 2)\n",
    "    pg.display.flip()\n",
    "    done = False\n",
    "    run = True\n",
    "    while run:\n",
    "        clock.tick(60)\n",
    "        for event in pg.event.get():\n",
    "            if event.type == pg.QUIT:\n",
    "                run = False\n",
    "            elif done is False:\n",
    "                for s in range(len(m)):\n",
    "                    agent.move(s)\n",
    "                    if s == len(m) - 1:\n",
    "                        done = True\n",
    "                        break\n",
    "                    agent.show(agent_color)\n",
    "                    pg.display.flip()\n",
    "                    pg.display.update()\n",
    "                    screen.blit(bg, (agent.x, agent.y))\n",
    "        pg.display.flip()\n",
    "        pg.display.update()\n",
    "    pg.quit()"
   ]
  },
  {
   "cell_type": "code",
   "execution_count": 3,
   "metadata": {},
   "outputs": [],
   "source": [
    "def fourier(tuple):\n",
    "\n",
    "    states = np.asarray(tuple)\n",
    "    fourier_x = np.interp(states[0], (-1.2, 0.5), (0, 1))\n",
    "    fourier_v = np.interp(states[1], (-0.07, 0.07), (0, 1))\n",
    "\n",
    "    states = (fourier_x, fourier_v)\n",
    "\n",
    "    order_approx1 = [0, 1, 2, 3]\n",
    "    order_approx2 = [0, 1, 2, 3]\n",
    "    c = [[o1,o2] for o1 in order_approx1 for o2 in order_approx2]\n",
    "\n",
    "    #x = np.cos(np.pi * (c @ states))\n",
    "    x = np.cos(np.pi * np.matmul(c,states))\n",
    "\n",
    "    return c,x"
   ]
  },
  {
   "cell_type": "code",
   "execution_count": 4,
   "metadata": {},
   "outputs": [],
   "source": [
    "def x_s_a(x,a):\n",
    "    x_sa = np.zeros(3*len(x))\n",
    "\n",
    "    if a == -1:\n",
    "        for i,x_i in enumerate(x):\n",
    "            x_sa[i] = x_i\n",
    "\n",
    "    elif a == 0:\n",
    "        for i,x_i in enumerate(x):\n",
    "            x_sa[len(x)+i] = x_i\n",
    "\n",
    "    elif a == 1:\n",
    "        for i,x_i in enumerate(x):\n",
    "            x_sa[2*len(x)+i] = x_i\n",
    "\n",
    "    return x_sa"
   ]
  },
  {
   "cell_type": "code",
   "execution_count": 5,
   "metadata": {},
   "outputs": [],
   "source": [
    "def softmax(theta, x):\n",
    "    x_s1, x_s2, x_s3 = x_s_a(x, -1), x_s_a(x, 0), x_s_a(x, 1)\n",
    "    h1, h2, h3 = np.matmul(np.transpose(theta), x_s1), np.matmul(np.transpose(theta), x_s2), np.matmul(np.transpose(theta), x_s3)\n",
    "    h_sum = [h1,h2,h3]\n",
    "    pi = np.exp(h_sum)/np.sum(np.exp(h_sum))\n",
    "\n",
    "    return pi"
   ]
  },
  {
   "cell_type": "code",
   "execution_count": 6,
   "metadata": {},
   "outputs": [],
   "source": [
    "def value_func(w, x):\n",
    "    v = np.matmul(np.transpose(w), x)\n",
    "\n",
    "    return v"
   ]
  },
  {
   "cell_type": "code",
   "execution_count": 7,
   "metadata": {},
   "outputs": [],
   "source": [
    "def grad_ln_pi(pi, x, a):\n",
    "    x_sa, x_s1, x_s2, x_s3 = x_s_a(x, a), x_s_a(x, -1), x_s_a(x, 0), x_s_a(x, 1)\n",
    "    b1, b2, b3 = pi[0], pi[1], pi[2]\n",
    "    b1, b2, b3 = b1*x_s1, b2*x_s2, b3*x_s3\n",
    "    grad = x_sa - (b1+b2+b3)\n",
    "\n",
    "    return grad"
   ]
  },
  {
   "cell_type": "markdown",
   "metadata": {},
   "source": [
    "## Part I (COMP4600)\n",
    "\n",
    "Implement REINFORCE with Baseline (p. 330).\n",
    "\n"
   ]
  },
  {
   "cell_type": "code",
   "execution_count": null,
   "metadata": {},
   "outputs": [],
   "source": [
    "#See Part III for code"
   ]
  },
  {
   "cell_type": "markdown",
   "metadata": {},
   "source": [
    "## Part I (COMP5500)\n",
    "\n",
    "Implement ACTOR-CRITIC with Eligibility Trace (p. 332).\n",
    "\n"
   ]
  },
  {
   "cell_type": "code",
   "execution_count": 8,
   "metadata": {},
   "outputs": [],
   "source": [
    "# Your code here (you are allowed to import from an external python file (of your own impmenetation) \n",
    "# instead of copying all the code here)\n",
    "def actor_critic():\n",
    "    gamma = 1\n",
    "    total_episodes = []\n",
    "    total_reward = []\n",
    "\n",
    "    car = MountainCar()\n",
    "    actions = car.actions\n",
    "    x_0 = np.random.uniform(low=-0.6, high=-0.4)\n",
    "\n",
    "    start = (x_0, 0)\n",
    "    c, x = fourier(start)\n",
    "    theta = np.zeros((len(actions) * len(c)))\n",
    "    w = np.zeros(len(c))\n",
    "    lambda_theta, lambda_w = 0.8, 0.8\n",
    "    a_theta, a_w = 5e-4, 5e-4\n",
    "\n",
    "    for episode in range(50):\n",
    "        car = MountainCar()\n",
    "        actions = car.actions\n",
    "\n",
    "        x_0 = np.random.uniform(low=-0.6, high=-0.4)\n",
    "        start = (x_0, 0)\n",
    "\n",
    "        state_history = []\n",
    "        reward_history = []\n",
    "\n",
    "        z_theta, z_w = np.zeros(len(theta)), np.zeros(len(w))\n",
    "        I = 1\n",
    "        timestep = 0\n",
    "        s = start\n",
    "\n",
    "        while True:\n",
    "            c, x = fourier(s)\n",
    "            pi = softmax(theta, x)\n",
    "            a = np.random.choice(actions, p=pi)\n",
    "            xp, vp, reward, goal_reached = car.move(s[0], s[1], a)\n",
    "            next_s = (xp, vp)\n",
    "            state_history.append(next_s)\n",
    "            reward_history.append(reward)\n",
    "\n",
    "            c, next_x = fourier(next_s)\n",
    "\n",
    "            if goal_reached is True:\n",
    "                delta = reward - value_func(w, x)\n",
    "            else:\n",
    "                delta = reward + gamma*value_func(w, next_x) - value_func(w, x)\n",
    "\n",
    "            z_w = (gamma * lambda_w * z_w) + x\n",
    "            z_theta = (gamma * lambda_theta * z_theta) + (I * grad_ln_pi(pi, x, a))\n",
    "            w += a_w * delta * z_w\n",
    "            theta += a_theta * delta * z_theta\n",
    "            I *= gamma\n",
    "            s = next_s\n",
    "\n",
    "            if goal_reached is True:\n",
    "                break\n",
    "\n",
    "            else:\n",
    "                timestep += 1\n",
    "\n",
    "        total_episodes.append(timestep)\n",
    "        total_reward.append(sum(reward_history))\n",
    "\n",
    "    return total_episodes, total_reward"
   ]
  },
  {
   "cell_type": "markdown",
   "metadata": {},
   "source": [
    "## Part II\n",
    "\n",
    "Use the algorithm to learn the Mountain Car task. Tune the step-size parameter ($\\alpha$), the Function Approximation order, the discount factor ($\\gamma$), and the $\\lambda$-value. **Note:** you can consider the problem to be undiscounted.\n",
    " \n",
    "1. Plot step-per-episode (in log scale) vs. number of episodes. This plot should be averaged over 50-100 runs. \n",
    "2. Plot total reward on episode vs. number of episodes. This plot should be averaged over 50-100 runs.\n",
    "3. Show an animation of the task for the final episode.\n"
   ]
  },
  {
   "cell_type": "code",
   "execution_count": 16,
   "metadata": {},
   "outputs": [],
   "source": [
    "def ac_runs(runs):\n",
    "\n",
    "    total_eps = []\n",
    "    total_r = []\n",
    "\n",
    "    for i in range(runs):\n",
    "        result = actor_critic()\n",
    "        print(i)\n",
    "        total_eps.append(result[0])\n",
    "        total_r.append(result[1])\n",
    "\n",
    "    return total_eps, total_r"
   ]
  },
  {
   "cell_type": "code",
   "execution_count": 28,
   "metadata": {},
   "outputs": [],
   "source": [
    "def plot_total_eps(total_eps):\n",
    "    episodes = []\n",
    "\n",
    "    for i in range(50):\n",
    "        episodes.append(i)\n",
    "    \n",
    "    plt.figure(figsize = (10,8))\n",
    "    plt.plot(episodes, np.mean(np.asarray(total_eps), axis=0), label=\"gamma = 1, a = 5e-4\")\n",
    "    plt.yscale('log')\n",
    "    plt.xlabel(\"episodes\")\n",
    "    plt.ylabel(\"log scale\")\n",
    "    plt.title(\"Mountain Car: Actor-Critic Episodic: Step per Episode\")\n",
    "    plt.legend()\n",
    "    plt.show()"
   ]
  },
  {
   "cell_type": "code",
   "execution_count": 29,
   "metadata": {},
   "outputs": [],
   "source": [
    "def plot_total_rewards(total_rewards):\n",
    "    episodes = []\n",
    "\n",
    "    for i in range(50):\n",
    "        episodes.append(i)\n",
    "    \n",
    "    plt.figure(figsize = (10,8))\n",
    "    plt.plot(episodes, np.mean(np.asarray(total_rewards), axis=0), label=\"gamma = 1, a = 5e-4\")\n",
    "    plt.xlabel(\"episodes\")\n",
    "    plt.ylabel(\"total rewards\")\n",
    "    plt.title(\"Mountain Car: Actor-Critic Episodic: Total Rewards per Episode\")\n",
    "    plt.legend()\n",
    "    plt.show()"
   ]
  },
  {
   "cell_type": "code",
   "execution_count": 19,
   "metadata": {},
   "outputs": [
    {
     "name": "stdout",
     "output_type": "stream",
     "text": [
      "0\n",
      "1\n",
      "2\n",
      "3\n",
      "4\n",
      "5\n",
      "6\n",
      "7\n",
      "8\n",
      "9\n",
      "10\n",
      "11\n",
      "12\n",
      "13\n",
      "14\n",
      "15\n",
      "16\n",
      "17\n",
      "18\n",
      "19\n",
      "20\n",
      "21\n",
      "22\n",
      "23\n",
      "24\n",
      "25\n",
      "26\n",
      "27\n",
      "28\n",
      "29\n",
      "30\n",
      "31\n",
      "32\n",
      "33\n",
      "34\n",
      "35\n",
      "36\n",
      "37\n",
      "38\n",
      "39\n",
      "40\n",
      "41\n",
      "42\n",
      "43\n",
      "44\n",
      "45\n",
      "46\n",
      "47\n",
      "48\n",
      "49\n"
     ]
    }
   ],
   "source": [
    "actor_critic()\n",
    "total_eps, total_rewards = ac_runs(50)"
   ]
  },
  {
   "cell_type": "code",
   "execution_count": 30,
   "metadata": {},
   "outputs": [
    {
     "data": {
      "image/png": "[encoded data removed]",
      "text/plain": [
       "<Figure size 720x576 with 1 Axes>"
      ]
     },
     "metadata": {
      "needs_background": "light"
     },
     "output_type": "display_data"
    }
   ],
   "source": [
    "plot_total_eps(total_eps)"
   ]
  },
  {
   "cell_type": "code",
   "execution_count": 31,
   "metadata": {},
   "outputs": [
    {
     "data": {
      "image/png": "[encoded data removed]",
      "text/plain": [
       "<Figure size 720x576 with 1 Axes>"
      ]
     },
     "metadata": {
      "needs_background": "light"
     },
     "output_type": "display_data"
    }
   ],
   "source": [
    "plot_total_rewards(total_rewards)"
   ]
  },
  {
   "cell_type": "code",
   "execution_count": 32,
   "metadata": {},
   "outputs": [],
   "source": [
    "def actor_critic_final_ep():\n",
    "    gamma = 1\n",
    "    \n",
    "    final_eps = []\n",
    "\n",
    "    car = MountainCar()\n",
    "    actions = car.actions\n",
    "    x_0 = np.random.uniform(low=-0.6, high=-0.4)\n",
    "\n",
    "    start = (x_0, 0)\n",
    "    c, x = fourier(start)\n",
    "    theta = np.zeros((len(actions) * len(c)))\n",
    "    w = np.zeros(len(c))\n",
    "    lambda_theta, lambda_w = 0.8, 0.8\n",
    "    a_theta, a_w = 5e-4, 5e-4\n",
    "\n",
    "    for episode in range(50):\n",
    "        car = MountainCar()\n",
    "        actions = car.actions\n",
    "\n",
    "        x_0 = np.random.uniform(low=-0.6, high=-0.4)\n",
    "        start = (x_0, 0)\n",
    "\n",
    "        state_history = []\n",
    "        reward_history = []\n",
    "\n",
    "        z_theta, z_w = np.zeros(len(theta)), np.zeros(len(w))\n",
    "        I = 1\n",
    "        timestep = 0\n",
    "        s = start\n",
    "\n",
    "        while True:\n",
    "            c, x = fourier(s)\n",
    "            pi = softmax(theta, x)\n",
    "            a = np.random.choice(actions, p=pi)\n",
    "            xp, vp, reward, goal_reached = car.move(s[0], s[1], a)\n",
    "            next_s = (xp, vp)\n",
    "            state_history.append(next_s)\n",
    "            reward_history.append(reward)\n",
    "\n",
    "            c, next_x = fourier(next_s)\n",
    "\n",
    "            if goal_reached is True:\n",
    "                delta = reward - value_func(w, x)\n",
    "            else:\n",
    "                delta = reward + gamma * value_func(w, next_x) - value_func(w, x)\n",
    "\n",
    "            z_w = (gamma * lambda_w * z_w) + x\n",
    "            z_theta = (gamma * lambda_theta * z_theta) + (I * grad_ln_pi(pi, x, a))\n",
    "            w += a_w * delta * z_w\n",
    "            theta += a_theta * delta * z_theta\n",
    "            I *= gamma\n",
    "            s = next_s\n",
    "\n",
    "            if goal_reached is True:\n",
    "                break\n",
    "\n",
    "            else:\n",
    "                timestep += 1\n",
    "\n",
    "        if episode == 49:\n",
    "            final_eps.append(state_history)\n",
    "\n",
    "    return state_history"
   ]
  },
  {
   "cell_type": "code",
   "execution_count": 34,
   "metadata": {},
   "outputs": [
    {
     "name": "stdout",
     "output_type": "stream",
     "text": [
      "[-0.45600559 -0.45500888 -0.45352297 -0.45355877 -0.45311601 -0.45419794\n",
      " -0.45479662 -0.45490766 -0.45453025 -0.45366715 -0.45432471 -0.45449808\n",
      " -0.45518601 -0.45638343 -0.45908157 -0.46126056 -0.46290438 -0.46500089\n",
      " -0.46853462 -0.47347946 -0.47979878 -0.48744565 -0.49436314 -0.50249962\n",
      " -0.51179424 -0.52217737 -0.53257116 -0.54389767 -0.55607203 -0.56900322\n",
      " -0.58259494 -0.59674649 -0.61135382 -0.62631057 -0.64150911 -0.65484165\n",
      " -0.66821511 -0.68153765 -0.69371947 -0.70468006 -0.71534837 -0.72365656\n",
      " -0.72955279 -0.73400079 -0.73597348 -0.73745897 -0.73744829 -0.73494153\n",
      " -0.73195378 -0.72850315 -0.72261071 -0.71431279 -0.70366128 -0.69072403\n",
      " -0.6755852  -0.65834556 -0.63912262 -0.61805049 -0.59527942 -0.57097487\n",
      " -0.5453162  -0.51849476 -0.4907116  -0.4621747  -0.43309587 -0.40368751\n",
      " -0.3741592  -0.34471453 -0.31554801 -0.28684252 -0.25876712 -0.23147549\n",
      " -0.20510492 -0.17977582 -0.15759186 -0.13663367 -0.11696839 -0.10065075\n",
      " -0.08572001 -0.07220706 -0.06013569 -0.04952374 -0.04138425 -0.03472552\n",
      " -0.02955323 -0.02687113 -0.0256809  -0.02598326 -0.02777803 -0.03106412\n",
      " -0.03583937 -0.04210018 -0.04984107 -0.05905407 -0.06972794 -0.08184731\n",
      " -0.0953917  -0.11033441 -0.12764142 -0.14726736 -0.16815326 -0.19222776\n",
      " -0.21739794 -0.245555   -0.27656385 -0.31026046 -0.34645008 -0.38490666\n",
      " -0.42537367 -0.46756676 -0.51117811 -0.55588259 -0.60134532 -0.64723023\n",
      " -0.69220901 -0.73697646 -0.78125066 -0.82477921 -0.86634396 -0.90576774\n",
      " -0.94291319 -0.97867998 -1.01199941 -1.04383277 -1.07416625 -1.1030079\n",
      " -1.12838452 -1.15133493 -1.17290634 -1.19215344 -1.2        -1.1987581\n",
      " -1.19627021 -1.19152817 -1.18351685 -1.1722117  -1.15858031 -1.1415872\n",
      " -1.12119365 -1.09736144 -1.07005749 -1.04025942 -1.00696189 -0.97018255\n",
      " -0.92996964 -0.88640975 -0.8396351  -0.78982967 -0.73723313 -0.68214179\n",
      " -0.6249057  -0.56592146 -0.50562064 -0.4464546  -0.38686199 -0.32726638\n",
      " -0.26805959 -0.20958706 -0.15213643 -0.09692989 -0.0431184   0.00921398\n",
      "  0.06004732  0.10942111  0.15742838  0.20420934  0.24994494  0.29485104\n",
      "  0.33917305  0.38318136  0.42716742  0.47144029  0.5       ]\n"
     ]
    }
   ],
   "source": [
    "final_eps = actor_critic_final_ep()\n",
    "final_eps = np.asarray(final_eps)[:, 0]\n",
    "print(final_eps)"
   ]
  },
  {
   "cell_type": "code",
   "execution_count": 46,
   "metadata": {},
   "outputs": [],
   "source": [
    "animate(final_eps)"
   ]
  },
  {
   "cell_type": "markdown",
   "metadata": {},
   "source": [
    "## Part III*\n",
    "\n",
    "Implement the other algorithm and include plots for both algorithms in part II."
   ]
  },
  {
   "cell_type": "code",
   "execution_count": 42,
   "metadata": {},
   "outputs": [],
   "source": [
    "#Spent a long time trying to tune the alpha values but it wasn't working properly\n",
    "#Code should be correct"
   ]
  },
  {
   "cell_type": "code",
   "execution_count": 37,
   "metadata": {},
   "outputs": [],
   "source": [
    "def reinforce_baseline():\n",
    "    gamma = 1\n",
    "    total_episodes = []\n",
    "    total_reward = []\n",
    "\n",
    "    car = MountainCar()\n",
    "    actions = car.actions\n",
    "    x_0 = np.random.uniform(low=-0.6, high=-0.4)\n",
    "\n",
    "    start = (x_0, 0)\n",
    "    c, x = fourier(start)\n",
    "    theta = np.zeros((len(actions) * len(c)))\n",
    "    w = np.zeros(len(c))\n",
    "    a_theta, a_w = 2e-9, 2e-6\n",
    "\n",
    "    for episode in range(50):\n",
    "        car = MountainCar()\n",
    "        actions = car.actions\n",
    "\n",
    "        x_0 = np.random.uniform(low=-0.6, high=-0.4)\n",
    "        start = (x_0, 0)\n",
    "\n",
    "        state_history = []\n",
    "        action_history = []\n",
    "        reward_history = []\n",
    "        policy_history = []\n",
    "\n",
    "        timestep = 0\n",
    "        s = start\n",
    "\n",
    "        while True:\n",
    "            c, x = fourier(s)\n",
    "            pi = softmax(theta, x)\n",
    "            a = np.random.choice(actions, p=pi)\n",
    "            xp, vp, reward, goal_reached = car.move(s[0], s[1], a)\n",
    "            next_s = (xp, vp)\n",
    "            state_history.append(next_s)\n",
    "            reward_history.append(reward)\n",
    "            action_history.append(a)\n",
    "            policy_history.append(pi)\n",
    "            s = next_s\n",
    "\n",
    "            if goal_reached is True:\n",
    "                break\n",
    "\n",
    "            else:\n",
    "                timestep += 1\n",
    "                print(timestep)\n",
    "\n",
    "        for t, sh in enumerate(state_history):\n",
    "            a, pi = action_history[t], policy_history[t]\n",
    "            G = -1 * (len(state_history) - t)\n",
    "            c, sh_x = fourier(sh)\n",
    "            delta = G - value_func(w, sh_x)\n",
    "            w += a_w * delta * sh_x\n",
    "            theta += a_theta * (gamma ** t) * delta * (grad_ln_pi(pi, sh_x, a))\n",
    "\n",
    "        total_episodes.append(timestep)\n",
    "        total_reward.append(sum(reward_history))\n",
    "\n",
    "    return total_episodes, total_reward"
   ]
  },
  {
   "cell_type": "code",
   "execution_count": 38,
   "metadata": {},
   "outputs": [],
   "source": [
    "def r_runs(runs):\n",
    "\n",
    "    total_eps = []\n",
    "    total_r = []\n",
    "\n",
    "    for i in range(runs):\n",
    "        result = reinforce_baseline()\n",
    "        print(i)\n",
    "        total_eps.append(result[0])\n",
    "        total_r.append(result[1])\n",
    "\n",
    "    return total_eps, total_r"
   ]
  },
  {
   "cell_type": "code",
   "execution_count": 39,
   "metadata": {},
   "outputs": [],
   "source": [
    "def r_plot_total_eps(total_eps):\n",
    "    episodes = []\n",
    "\n",
    "    for i in range(50):\n",
    "        episodes.append(i)\n",
    "\n",
    "    plt.plot(episodes, np.mean(np.asarray(total_eps), axis=0), label=\"a_t = 2e-9, a_w = 2e-6\")\n",
    "    plt.yscale('log')\n",
    "    plt.xlabel(\"episodes\")\n",
    "    plt.ylabel(\"log scale\")\n",
    "    plt.title(\"Mountain Car: Reinforce with Baseline Episodic: Step per Episode\")\n",
    "    plt.legend()\n",
    "    plt.show()"
   ]
  },
  {
   "cell_type": "code",
   "execution_count": 40,
   "metadata": {},
   "outputs": [],
   "source": [
    "def r_plot_total_rewards(total_rewards):\n",
    "    episodes = []\n",
    "\n",
    "    for i in range(50):\n",
    "        episodes.append(i)\n",
    "\n",
    "    plt.plot(episodes, np.mean(np.asarray(total_rewards), axis=0), label=\"a_t = 2e-9, a_w = 2e-6\")\n",
    "    plt.xlabel(\"episodes\")\n",
    "    plt.ylabel(\"total rewards\")\n",
    "    plt.title(\"Mountain Car: Reinforce with Baseline Episodic: Total Rewards per Episode\")\n",
    "    plt.legend()\n",
    "    plt.show()"
   ]
  },
  {
   "cell_type": "code",
   "execution_count": null,
   "metadata": {},
   "outputs": [],
   "source": [
    "r_total_eps, r_total_rewards = r_runs(50)"
   ]
  },
  {
   "cell_type": "code",
   "execution_count": null,
   "metadata": {},
   "outputs": [],
   "source": [
    "plot_total_eps(r_total_eps)"
   ]
  },
  {
   "cell_type": "code",
   "execution_count": null,
   "metadata": {},
   "outputs": [],
   "source": [
    "plot_total_rewards(r_total_rewards)"
   ]
  },
  {
   "cell_type": "code",
   "execution_count": 41,
   "metadata": {},
   "outputs": [],
   "source": [
    "def reinforce_baseline_final_eps():\n",
    "    gamma = 1\n",
    "    final_eps = []\n",
    "\n",
    "    car = MountainCar()\n",
    "    actions = car.actions\n",
    "    x_0 = np.random.uniform(low=-0.6, high=-0.4)\n",
    "\n",
    "    start = (x_0, 0)\n",
    "    c, x = fourier(start)\n",
    "    theta = np.zeros((len(actions) * len(c)))\n",
    "    w = np.zeros(len(c))\n",
    "    a_theta, a_w = 2e-9, 2e-6\n",
    "\n",
    "    for episode in range(50):\n",
    "        car = MountainCar()\n",
    "        actions = car.actions\n",
    "\n",
    "        x_0 = np.random.uniform(low=-0.6, high=-0.4)\n",
    "        start = (x_0, 0)\n",
    "\n",
    "        state_history = []\n",
    "        action_history = []\n",
    "        reward_history = []\n",
    "        policy_history = []\n",
    "\n",
    "        timestep = 0\n",
    "        s = start\n",
    "\n",
    "        while True:\n",
    "            c, x = fourier(s)\n",
    "            pi = softmax(theta, x)\n",
    "            a = np.random.choice(actions, p=pi)\n",
    "            xp, vp, reward, goal_reached = car.move(s[0], s[1], a)\n",
    "            next_s = (xp, vp)\n",
    "            state_history.append(next_s)\n",
    "            reward_history.append(reward)\n",
    "            action_history.append(a)\n",
    "            policy_history.append(pi)\n",
    "            s = next_s\n",
    "\n",
    "            if goal_reached is True:\n",
    "                break\n",
    "\n",
    "            else:\n",
    "                timestep += 1\n",
    "                print(timestep)\n",
    "\n",
    "        for t, sh in enumerate(state_history):\n",
    "            a, pi = action_history[t], policy_history[t]\n",
    "            G = -1 * (len(state_history) - t)\n",
    "            c, sh_x = fourier(sh)\n",
    "            delta = G - value_func(w, sh_x)\n",
    "            w += a_w * delta * sh_x\n",
    "            theta += a_theta * (gamma ** t) * delta * (grad_ln_pi(pi, sh_x, a))\n",
    "\n",
    "        if episode == 49:\n",
    "            final_eps.append(state_history)\n",
    "    \n",
    "    return final_eps "
   ]
  },
  {
   "cell_type": "code",
   "execution_count": null,
   "metadata": {},
   "outputs": [],
   "source": [
    "r_final_eps = reinforce_baseline_final_eps()\n",
    "r_final_eps = np.asarray(r_final_eps)[:, 0]\n",
    "print(r_final_eps)"
   ]
  },
  {
   "cell_type": "code",
   "execution_count": null,
   "metadata": {},
   "outputs": [],
   "source": [
    "animate(r_final_eps)"
   ]
  }
 ],
 "metadata": {
  "kernelspec": {
   "display_name": "Python 3",
   "language": "python",
   "name": "python3"
  },
  "language_info": {
   "codemirror_mode": {
    "name": "ipython",
    "version": 3
   },
   "file_extension": ".py",
   "mimetype": "text/x-python",
   "name": "python",
   "nbconvert_exporter": "python",
   "pygments_lexer": "ipython3",
   "version": "3.7.9"
  }
 },
 "nbformat": 4,
 "nbformat_minor": 2
}
