{
 "cells": [
  {
   "cell_type": "markdown",
   "metadata": {},
   "source": [
    "<center>\n",
    "    COMP4600/5500 - Reinforcement Learning\n",
    "\n",
    "# Homework 6 - On-policy Control with Approximation\n",
    "\n",
    "### Due: Monday, November 15th 11:59 pm\n",
    "    \n",
    "</center>"
   ]
  },
  {
   "cell_type": "markdown",
   "metadata": {},
   "source": [
    "Student Name: Kevin Lu"
   ]
  },
  {
   "cell_type": "markdown",
   "metadata": {},
   "source": [
    "The purpose of this project is to study different properties of Function Approximation with on-policy control methods.  "
   ]
  },
  {
   "cell_type": "code",
   "execution_count": 32,
   "metadata": {},
   "outputs": [],
   "source": [
    "# You are allowed to use the following modules\n",
    "import numpy as np\n",
    "import matplotlib.pyplot as plt\n",
    "from mountain_car import MountainCar\n",
    "import pygame as pg"
   ]
  },
  {
   "attachments": {
    "mc.png": {
     "image/png": "[encoded data removed]"
    }
   },
   "cell_type": "markdown",
   "metadata": {},
   "source": [
    "## Task description\n",
    "Consider the task of driving an underpowered car up a steep mountain road, as suggested by the diagram in the upper left of the following figure. The difficulty is that gravity is stronger than the car's engine, and even at full throttle the car cannot accelerate up the steep slope. The only solution is to first move away from the goal and up the opposite slope on the left. Then by applying full throttle the car can build up enough inertia to carry it up the steep slope even though it is slowing down the whole way.\n",
    "\n",
    "\n",
    "![mc.png](attachment:mc.png)\n",
    "\n",
    "\n",
    "This is a continuous control task where things have to get worse in a sense (farther from the goal) before they can get better. The reward in this problem is -1 on all time steps until the car moves past its goal position at the top of the mountain, which ends the episode. There are three possible actions: full throttle forward (+1), full throttle reverse (-1), and zero throttle (0). The car moves according to a simplified physics. Its position $x_t$ and velocity $\\dot{x}_t$ are updated by\n",
    "\n",
    "$x_{t+1} \\doteq \\text{bound}[x_t + \\dot{x}_{t+1}]$\n",
    "\n",
    "$\\dot{x}_{t+1} \\doteq \\text{bound}[\\dot{x}_t + 0.001 A_t - 0.0025 \\cos(3x_t)]$\n",
    "\n",
    "\n",
    "where the $bound$ operation enforces $-1.2 \\le x_{t+1} \\le 0.5$ and $-0.07 \\le \\dot{x}_{t+1} \\le 0.07$. In addition, when $x_{t+1}$ reached the left bound, $\\dot{x}_{t+1}$ was reset to zero. When it reached the right bound, the goal was reached and the episode was terminated. Each episode starts from a random position $x_t \\in [-0.6, -0.4)$ and zero velocity.\n"
   ]
  },
  {
   "cell_type": "markdown",
   "metadata": {},
   "source": [
    "## Part I\n",
    "\n",
    "You have been given a simple implementation of the Mountain Car task. \n",
    "\n",
    "1. Your first task is to check and confirm that the given code simulates the above formulae and task description. Then write a function that generates random episodes for this task. You should use the given code for the Mountain Car task. \n"
   ]
  },
  {
   "cell_type": "code",
   "execution_count": 31,
   "metadata": {},
   "outputs": [],
   "source": [
    "WIDTH = 640\n",
    "HEIGHT = 480\n",
    "CENTER = 6\n",
    "TS = 10\n",
    "bg_color = pg.Color(0,0,0)\n",
    "agent_color = pg.Color(120,120,0)"
   ]
  },
  {
   "cell_type": "code",
   "execution_count": 3,
   "metadata": {},
   "outputs": [
    {
     "name": "stdout",
     "output_type": "stream",
     "text": [
      "-0.48917684300416925 0.010823156995830741 -1.0 False\n"
     ]
    }
   ],
   "source": [
    "car = MountainCar()\n",
    "xp, vp, r, goal_reached = car.move(-0.5, 0.01, 1)\n",
    "print(xp,vp,r,goal_reached)"
   ]
  },
  {
   "cell_type": "code",
   "execution_count": 3,
   "metadata": {},
   "outputs": [],
   "source": [
    "def episode(xp, vp):\n",
    "    car = MountainCar()\n",
    "    state_history = [(xp,vp)]\n",
    "    reward_history = []\n",
    "\n",
    "    for t in range(100):\n",
    "        a = np.random.choice(car.actions)\n",
    "\n",
    "        new_xp, new_vp, r, goal_reached = car.move(xp, vp, a)\n",
    "        reward_history.append(r)\n",
    "        state_history.append((new_xp,new_vp))\n",
    "        print(\"xp = \", new_xp, \" vp = \", new_vp, \" reward = \", r, \" action =\", a, \" goal reached = \", car.goal_reached)\n",
    "        xp, vp = new_xp, new_vp\n",
    "        t += 1\n",
    "\n",
    "    return state_history"
   ]
  },
  {
   "cell_type": "code",
   "execution_count": 9,
   "metadata": {},
   "outputs": [
    {
     "name": "stdout",
     "output_type": "stream",
     "text": [
      "xp =  -0.48917684300416925  vp =  0.010823156995830741  reward =  -1.0  action = 1  goal reached =  False\n",
      "xp =  -0.47961139191054886  vp =  0.009565451093620414  reward =  -1.0  action = -1  goal reached =  False\n",
      "xp =  -0.4713748895320466  vp =  0.00823650237850226  reward =  -1.0  action = -1  goal reached =  False\n",
      "xp =  -0.46252846590453134  vp =  0.00884642362751525  reward =  -1.0  action = 1  goal reached =  False\n",
      "xp =  -0.4541375115205651  vp =  0.008390954383966276  reward =  -1.0  action = 0  goal reached =  False\n",
      "xp =  -0.44526375445437844  vp =  0.008873757066186639  reward =  -1.0  action = 1  goal reached =  False\n",
      "xp =  -0.4369721171626154  vp =  0.008291637291763049  reward =  -1.0  action = 0  goal reached =  False\n",
      "xp =  -0.4293228912693031  vp =  0.007649225893312307  reward =  -1.0  action = 0  goal reached =  False\n",
      "xp =  -0.42137134555450756  vp =  0.007951545714795585  reward =  -1.0  action = 1  goal reached =  False\n",
      "xp =  -0.41417454333180637  vp =  0.007196802222701205  reward =  -1.0  action = 0  goal reached =  False\n",
      "xp =  -0.40678376221869567  vp =  0.007390781113110698  reward =  -1.0  action = 1  goal reached =  False\n",
      "xp =  -0.40125127068570215  vp =  0.005532491532993505  reward =  -1.0  action = -1  goal reached =  False\n",
      "xp =  -0.3956159204280268  vp =  0.005635350257675383  reward =  -1.0  action = 1  goal reached =  False\n",
      "xp =  -0.3909170313240949  vp =  0.004698889103931879  reward =  -1.0  action = 0  goal reached =  False\n",
      "xp =  -0.38818718506928795  vp =  0.0027298462548069153  reward =  -1.0  action = -1  goal reached =  False\n",
      "xp =  -0.3864452221675699  vp =  0.0017419629017180797  reward =  -1.0  action = 0  goal reached =  False\n",
      "xp =  -0.3857031305264893  vp =  0.0007420916410805813  reward =  -1.0  action = 0  goal reached =  False\n",
      "xp =  -0.38496600882575616  vp =  0.0007371217007331547  reward =  -1.0  action = 1  goal reached =  False\n",
      "xp =  -0.38523891666722476  vp =  -0.0002729078414686146  reward =  -1.0  action = 0  goal reached =  False\n",
      "xp =  -0.38551998138652127  vp =  -0.00028106471929653177  reward =  -1.0  action = 1  goal reached =  False\n",
      "xp =  -0.38580727364128825  vp =  -0.0002872922547669989  reward =  -1.0  action = 1  goal reached =  False\n",
      "xp =  -0.3870988206014903  vp =  -0.0012915469602020435  reward =  -1.0  action = 0  goal reached =  False\n",
      "xp =  -0.3893857440464898  vp =  -0.002286923444999464  reward =  -1.0  action = 0  goal reached =  False\n",
      "xp =  -0.39165228686778913  vp =  -0.0022665428212993266  reward =  -1.0  action = 1  goal reached =  False\n",
      "xp =  -0.3938827868829387  vp =  -0.002230500015149561  reward =  -1.0  action = 1  goal reached =  False\n",
      "xp =  -0.3980617874565548  vp =  -0.004179000573616092  reward =  -1.0  action = -1  goal reached =  False\n",
      "xp =  -0.40416021569976507  vp =  -0.006098428243210295  reward =  -1.0  action = -1  goal reached =  False\n",
      "xp =  -0.41113538740374556  vp =  -0.006975171703980464  reward =  -1.0  action = 0  goal reached =  False\n",
      "xp =  -0.4179381229194487  vp =  -0.006802735515703173  reward =  -1.0  action = 1  goal reached =  False\n",
      "xp =  -0.4245201091851879  vp =  -0.006581986265739206  reward =  -1.0  action = 1  goal reached =  False\n",
      "xp =  -0.43283429177692384  vp =  -0.008314182591735952  reward =  -1.0  action = -1  goal reached =  False\n",
      "xp =  -0.4428208271062393  vp =  -0.00998653532931548  reward =  -1.0  action = -1  goal reached =  False\n",
      "xp =  -0.454407284759916  vp =  -0.011586457653676649  reward =  -1.0  action = -1  goal reached =  False\n",
      "xp =  -0.4655089600338522  vp =  -0.011101675273936214  reward =  -1.0  action = 1  goal reached =  False\n",
      "xp =  -0.4780441070477059  vp =  -0.012535147013853642  reward =  -1.0  action = -1  goal reached =  False\n",
      "xp =  -0.491919851534878  vp =  -0.013875744487172118  reward =  -1.0  action = -1  goal reached =  False\n",
      "xp =  -0.5050328304594275  vp =  -0.01311297892454944  reward =  -1.0  action = 1  goal reached =  False\n",
      "xp =  -0.5172849819884571  vp =  -0.012252151529029595  reward =  -1.0  action = 1  goal reached =  False\n",
      "xp =  -0.529584484138065  vp =  -0.012299502149607911  reward =  -1.0  action = 0  goal reached =  False\n",
      "xp =  -0.540839095886263  vp =  -0.01125461174819797  reward =  -1.0  action = 1  goal reached =  False\n",
      "xp =  -0.5519644628731575  vp =  -0.011125366986894486  reward =  -1.0  action = 0  goal reached =  False\n",
      "xp =  -0.5638773438755466  vp =  -0.011912881002389112  reward =  -1.0  action = -1  goal reached =  False\n",
      "xp =  -0.574488870227029  vp =  -0.010611526351482442  reward =  -1.0  action = 1  goal reached =  False\n",
      "xp =  -0.5837202018384247  vp =  -0.009231331611395707  reward =  -1.0  action = 1  goal reached =  False\n",
      "xp =  -0.5925030635626682  vp =  -0.008782861724243616  reward =  -1.0  action = 0  goal reached =  False\n",
      "xp =  -0.6007728156402338  vp =  -0.008269752077565518  reward =  -1.0  action = 0  goal reached =  False\n",
      "xp =  -0.6084689194775899  vp =  -0.007696103837356031  reward =  -1.0  action = 0  goal reached =  False\n",
      "xp =  -0.6165353522687012  vp =  -0.008066432791111288  reward =  -1.0  action = -1  goal reached =  False\n",
      "xp =  -0.6239137562157473  vp =  -0.007378403947046192  reward =  -1.0  action = 0  goal reached =  False\n",
      "xp =  -0.6305511031327399  vp =  -0.006637346916992632  reward =  -1.0  action = 0  goal reached =  False\n",
      "xp =  -0.6354000002416214  vp =  -0.004848897108881508  reward =  -1.0  action = 1  goal reached =  False\n",
      "xp =  -0.6384260214082582  vp =  -0.0030260211666369124  reward =  -1.0  action = 1  goal reached =  False\n",
      "xp =  -0.6416077703057258  vp =  -0.003181748897467596  reward =  -1.0  action = -1  goal reached =  False\n",
      "xp =  -0.644922824563403  vp =  -0.0033150542576772437  reward =  -1.0  action = -1  goal reached =  False\n",
      "xp =  -0.6473479064108736  vp =  -0.0024250818474705906  reward =  -1.0  action = 0  goal reached =  False\n",
      "xp =  -0.6498660429373212  vp =  -0.002518136526447648  reward =  -1.0  action = -1  goal reached =  False\n",
      "xp =  -0.6514596607654567  vp =  -0.0015936178281355383  reward =  -1.0  action = 0  goal reached =  False\n",
      "xp =  -0.652117665675333  vp =  -0.0006580049098763025  reward =  -1.0  action = 0  goal reached =  False\n",
      "xp =  -0.6518354830861366  vp =  0.00028218258919644236  reward =  -1.0  action = 0  goal reached =  False\n",
      "xp =  -0.6516150743396255  vp =  0.00022040874651107708  reward =  -1.0  action = -1  goal reached =  False\n",
      "xp =  -0.6504579718792984  vp =  0.0011571024603270546  reward =  -1.0  action = 0  goal reached =  False\n",
      "xp =  -0.6473722274343604  vp =  0.0030857444449379975  reward =  -1.0  action = 1  goal reached =  False\n",
      "xp =  -0.6433793676895613  vp =  0.003992859744799125  reward =  -1.0  action = 0  goal reached =  False\n",
      "xp =  -0.6375073626259821  vp =  0.005872005063579239  reward =  -1.0  action = 1  goal reached =  False\n",
      "xp =  -0.6297975736522984  vp =  0.007709788973683732  reward =  -1.0  action = 1  goal reached =  False\n",
      "xp =  -0.6223046999315798  vp =  0.007492873720718555  reward =  -1.0  action = -1  goal reached =  False\n",
      "xp =  -0.6150823033211756  vp =  0.00722239661040419  reward =  -1.0  action = -1  goal reached =  False\n",
      "xp =  -0.606182361402282  vp =  0.008899941918893643  reward =  -1.0  action = 1  goal reached =  False\n",
      "xp =  -0.5956693594429143  vp =  0.010513001959367703  reward =  -1.0  action = 1  goal reached =  False\n",
      "xp =  -0.585620029673492  vp =  0.010049329769422266  reward =  -1.0  action = -1  goal reached =  False\n",
      "xp =  -0.5751082198047988  vp =  0.010511809868693236  reward =  -1.0  action = 0  goal reached =  False\n",
      "xp =  -0.5652116247627922  vp =  0.009896595042006531  reward =  -1.0  action = -1  goal reached =  False\n",
      "xp =  -0.5540037433733841  vp =  0.01120788138940814  reward =  -1.0  action = 1  goal reached =  False\n",
      "xp =  -0.542568140811832  vp =  0.011435602561552077  reward =  -1.0  action = 0  goal reached =  False\n",
      "xp =  -0.5309903447898497  vp =  0.011577796021982233  reward =  -1.0  action = 0  goal reached =  False\n",
      "xp =  -0.5203571165420255  vp =  0.010633228247824216  reward =  -1.0  action = -1  goal reached =  False\n",
      "xp =  -0.5087482003538996  vp =  0.011608916188125968  reward =  -1.0  action = 1  goal reached =  False\n",
      "xp =  -0.4962506266384414  vp =  0.012497573715458168  reward =  -1.0  action = 1  goal reached =  False\n",
      "xp =  -0.4829579340071715  vp =  0.013292692631269844  reward =  -1.0  action = 1  goal reached =  False\n",
      "xp =  -0.4699692930860932  vp =  0.012988640921078298  reward =  -1.0  action = 0  goal reached =  False\n",
      "xp =  -0.45638114027318694  vp =  0.013588152812906248  reward =  -1.0  action = 1  goal reached =  False\n",
      "xp =  -0.4442937100017011  vp =  0.012087430271485849  reward =  -1.0  action = -1  goal reached =  False\n",
      "xp =  -0.4317954723871908  vp =  0.01249823761451028  reward =  -1.0  action = 1  goal reached =  False\n",
      "xp =  -0.4189770883264092  vp =  0.012818384060781613  reward =  -1.0  action = 1  goal reached =  False\n",
      "xp =  -0.4059305472076486  vp =  0.013046541118760595  reward =  -1.0  action = 1  goal reached =  False\n",
      "xp =  -0.3927483030254063  vp =  0.013182244182242269  reward =  -1.0  action = 1  goal reached =  False\n",
      "xp =  -0.38052242635432554  vp =  0.012225876671080788  reward =  -1.0  action = 0  goal reached =  False\n",
      "xp =  -0.3683369744567575  vp =  0.012185451897568015  reward =  -1.0  action = 1  goal reached =  False\n",
      "xp =  -0.35727433424315297  vp =  0.011062640213604561  reward =  -1.0  action = 0  goal reached =  False\n",
      "xp =  -0.3484080047625313  vp =  0.008866329480621686  reward =  -1.0  action = -1  goal reached =  False\n",
      "xp =  -0.3397959456776031  vp =  0.008612059084928264  reward =  -1.0  action = 1  goal reached =  False\n",
      "xp =  -0.3314936052980002  vp =  0.008302340379602858  reward =  -1.0  action = 1  goal reached =  False\n",
      "xp =  -0.32355361063443555  vp =  0.007939994663564653  reward =  -1.0  action = 1  goal reached =  False\n",
      "xp =  -0.3160255017132991  vp =  0.0075281089211364964  reward =  -1.0  action = 1  goal reached =  False\n",
      "xp =  -0.31095550932460514  vp =  0.005069992388693947  reward =  -1.0  action = -1  goal reached =  False\n",
      "xp =  -0.30837435109404937  vp =  0.0025811582305557837  reward =  -1.0  action = -1  goal reached =  False\n",
      "xp =  -0.30829753365079293  vp =  7.681744325644746e-05  reward =  -1.0  action = -1  goal reached =  False\n",
      "xp =  -0.31072551710758745  vp =  -0.002427983456794499  reward =  -1.0  action = -1  goal reached =  False\n",
      "xp =  -0.3156437200659837  vp =  -0.004918202958396244  reward =  -1.0  action = -1  goal reached =  False\n",
      "xp =  -0.32202236449523874  vp =  -0.006378644429255089  reward =  -1.0  action = 0  goal reached =  False\n"
     ]
    }
   ],
   "source": [
    "m = episode(-0.5, 0.01)"
   ]
  },
  {
   "cell_type": "markdown",
   "metadata": {},
   "source": [
    "2. Use the Pygame library to develop a simple function that animates a given episode/trajectory. The equation for the mountain is $y = 0.45\\sin(3x) + 0.55$. Use a randomly generated episode from the function you developed above and pass it to your animation function, then plot the results."
   ]
  },
  {
   "cell_type": "code",
   "execution_count": 33,
   "metadata": {},
   "outputs": [],
   "source": [
    "class Agent:\n",
    "\n",
    "    def __init__(self, scr, matrix):\n",
    "        self.w = WIDTH//40\n",
    "        self.h = HEIGHT//30\n",
    "        self.x = (5*WIDTH//8)*matrix[0] + WIDTH//1.52\n",
    "        self.y = -((HEIGHT//4)+(HEIGHT//1.5)*(np.sin(3*matrix[0]) * 0.45 + 0.55)) + HEIGHT//0.86\n",
    "        self.matrix = matrix\n",
    "        self.scr = scr\n",
    "        self.my_rect = pg.Rect((self.x, self.y), (self.w, self.h))\n",
    "\n",
    "    def show(self, color):\n",
    "        self.my_rect = pg.Rect((self.x,self.y), (self.w, self.h))\n",
    "        pg.draw.rect(self.scr, color, self.my_rect)\n",
    "\n",
    "    def move(self, s):\n",
    "        pg.time.wait(TS)\n",
    "        self.x = (5*WIDTH//8)*self.matrix[s] + WIDTH//1.52\n",
    "        self.y = -((HEIGHT//4)+(HEIGHT//1.5)*(np.sin(3*self.matrix[s]) * 0.45 + 0.55)) + HEIGHT//0.86\n",
    "        self.show(agent_color)"
   ]
  },
  {
   "cell_type": "code",
   "execution_count": 34,
   "metadata": {},
   "outputs": [],
   "source": [
    "def animate(m):\n",
    "    \n",
    "    pg.init()\n",
    "    screen = pg.display.set_mode([WIDTH, HEIGHT])\n",
    "    agent = Agent(screen, m)\n",
    "    bg = pg.Surface((agent.w, agent.h))\n",
    "    bg = bg.convert()\n",
    "    bg.fill(bg_color)\n",
    "    screen.blit(bg, (agent.x, agent.y))\n",
    "    clock = pg.time.Clock()\n",
    "    plotPoints = []\n",
    "    x = np.arange(0, WIDTH, 0.01)\n",
    "    y = np.sin(3 * x) * 0.45 + 0.55\n",
    "    for x0, y0 in zip(x, y):\n",
    "        plotPoints.append([(5 * WIDTH // 8) * x0, (HEIGHT // 4) + (HEIGHT // 1.5) * y0])\n",
    "    pg.draw.lines(screen, [0, 0, 255], False, plotPoints, 2)\n",
    "    pg.display.flip()\n",
    "    done = False\n",
    "    run = True\n",
    "    while run:\n",
    "        clock.tick(60)\n",
    "        for event in pg.event.get():\n",
    "            if event.type == pg.QUIT:\n",
    "                run = False\n",
    "            elif done is False:\n",
    "                for s in range(len(m)):\n",
    "                    agent.move(s)\n",
    "                    if s == len(m) - 1:\n",
    "                        done = True\n",
    "                        break\n",
    "                    agent.show(agent_color)\n",
    "                    pg.display.flip()\n",
    "                    pg.display.update()\n",
    "                    screen.blit(bg, (agent.x, agent.y))\n",
    "        pg.display.flip()\n",
    "        pg.display.update()\n",
    "    pg.quit()"
   ]
  },
  {
   "cell_type": "code",
   "execution_count": 12,
   "metadata": {},
   "outputs": [],
   "source": [
    "def plot(state_history):\n",
    "    timesteps = []\n",
    "    for s in range(len(state_history)):\n",
    "        timesteps.append(s)\n",
    "\n",
    "    plt.plot(timesteps,state_history)\n",
    "    plt.xlabel(\"timesteps\")\n",
    "    plt.ylabel(\"displacement\")\n",
    "    plt.title(\"Timesteps vs. Displacement for Random Agent\")\n",
    "    plt.show()"
   ]
  },
  {
   "cell_type": "code",
   "execution_count": 24,
   "metadata": {},
   "outputs": [
    {
     "name": "stdout",
     "output_type": "stream",
     "text": [
      "[-0.5        -0.48917684 -0.47961139 -0.47137489 -0.46252847 -0.45413751\n",
      " -0.44526375 -0.43697212 -0.42932289 -0.42137135 -0.41417454 -0.40678376\n",
      " -0.40125127 -0.39561592 -0.39091703 -0.38818719 -0.38644522 -0.38570313\n",
      " -0.38496601 -0.38523892 -0.38551998 -0.38580727 -0.38709882 -0.38938574\n",
      " -0.39165229 -0.39388279 -0.39806179 -0.40416022 -0.41113539 -0.41793812\n",
      " -0.42452011 -0.43283429 -0.44282083 -0.45440728 -0.46550896 -0.47804411\n",
      " -0.49191985 -0.50503283 -0.51728498 -0.52958448 -0.5408391  -0.55196446\n",
      " -0.56387734 -0.57448887 -0.5837202  -0.59250306 -0.60077282 -0.60846892\n",
      " -0.61653535 -0.62391376 -0.6305511  -0.6354     -0.63842602 -0.64160777\n",
      " -0.64492282 -0.64734791 -0.64986604 -0.65145966 -0.65211767 -0.65183548\n",
      " -0.65161507 -0.65045797 -0.64737223 -0.64337937 -0.63750736 -0.62979757\n",
      " -0.6223047  -0.6150823  -0.60618236 -0.59566936 -0.58562003 -0.57510822\n",
      " -0.56521162 -0.55400374 -0.54256814 -0.53099034 -0.52035712 -0.5087482\n",
      " -0.49625063 -0.48295793 -0.46996929 -0.45638114 -0.44429371 -0.43179547\n",
      " -0.41897709 -0.40593055 -0.3927483  -0.38052243 -0.36833697 -0.35727433\n",
      " -0.348408   -0.33979595 -0.33149361 -0.32355361 -0.3160255  -0.31095551\n",
      " -0.30837435 -0.30829753 -0.31072552 -0.31564372 -0.32202236]\n"
     ]
    }
   ],
   "source": [
    "m1 = np.asarray(m)[:, 0]\n",
    "print(m1)"
   ]
  },
  {
   "cell_type": "code",
   "execution_count": 29,
   "metadata": {},
   "outputs": [],
   "source": [
    "#if i run this it will force me to restart the kernel cause the quit method won't work in notebook\n",
    "animate(m1)"
   ]
  },
  {
   "cell_type": "code",
   "execution_count": 30,
   "metadata": {},
   "outputs": [
    {
     "data": {
      "image/png": "[encoded data removed]",
      "text/plain": [
       "<Figure size 432x288 with 1 Axes>"
      ]
     },
     "metadata": {
      "needs_background": "light"
     },
     "output_type": "display_data"
    }
   ],
   "source": [
    "plot(np.asarray(m)[:, 0])"
   ]
  },
  {
   "cell_type": "markdown",
   "metadata": {},
   "source": [
    "## Part II\n",
    "\n",
    "Develop a function approximation procedure based on either **Polynomials** or **Fourier basis** (recommended). Given the current $\\bar{w}$, the developed function approximation method should return the value for each specific state."
   ]
  },
  {
   "cell_type": "code",
   "execution_count": 36,
   "metadata": {},
   "outputs": [],
   "source": [
    "def fourier(tuple):\n",
    "\n",
    "    states = np.asarray(tuple)\n",
    "    fourier_x = np.interp(states[0], (-1.2, 0.5), (0, 1))\n",
    "    fourier_v = np.interp(states[1], (-0.07, 0.07), (0, 1))\n",
    "\n",
    "    states = (fourier_x, fourier_v)\n",
    "\n",
    "    order_approx1 = [0, 1, 2, 3]\n",
    "    order_approx2 = [0, 1, 2, 3]\n",
    "    c = [[o1,o2] for o1 in order_approx1 for o2 in order_approx2]\n",
    "\n",
    "    x = np.cos(np.pi * np.matmul(c,states))\n",
    "\n",
    "    return c,x"
   ]
  },
  {
   "cell_type": "markdown",
   "metadata": {},
   "source": [
    "## Part III (COMP5500)\n",
    "\n",
    "1. Implement the **Episodic Semi-gradient $n$-step SARSA** (pp. 247)."
   ]
  },
  {
   "cell_type": "code",
   "execution_count": 35,
   "metadata": {},
   "outputs": [],
   "source": [
    "def epsilon_greedy(e,q):\n",
    "\n",
    "    p = np.random.random()\n",
    "    car = MountainCar()\n",
    "\n",
    "    if p > e:\n",
    "        #next_action = np.argmax(q) - 1\n",
    "        next_action = np.random.choice(np.flatnonzero(q == q.max())) - 1\n",
    "\n",
    "    else:\n",
    "        next_action = np.random.choice(car.actions)\n",
    "\n",
    "    return next_action"
   ]
  },
  {
   "cell_type": "code",
   "execution_count": 22,
   "metadata": {},
   "outputs": [],
   "source": [
    "def n_step_sarsa(n,alpha):\n",
    "\n",
    "    episodes = 50\n",
    "\n",
    "    #alpha = 0.0001\n",
    "    e = 0.05\n",
    "    gamma = 0.99\n",
    "    log_total_episodes = []\n",
    "\n",
    "    car = MountainCar()\n",
    "    actions = car.actions\n",
    "    x_0 = np.random.uniform(low=-0.6, high=-0.4)\n",
    "\n",
    "    start = (x_0, 0)\n",
    "    c, x = fourier(start)\n",
    "\n",
    "    w = np.random.random((len(c), len(actions)))\n",
    "    q = np.matmul(np.transpose(w), x)\n",
    "\n",
    "    for episodes in range(episodes):\n",
    "\n",
    "        car = MountainCar()\n",
    "        actions = car.actions\n",
    "\n",
    "        x_0 = np.random.uniform(low=-0.6, high=-0.4)\n",
    "        start = (x_0, 0)\n",
    "\n",
    "        state_history = []\n",
    "        action_history = []\n",
    "        reward_history = []\n",
    "\n",
    "        state_history.append(start)\n",
    "        a = epsilon_greedy(e,q)\n",
    "\n",
    "        state_update = np.zeros((2,2))\n",
    "        action_update = np.zeros(2)\n",
    "\n",
    "        state_update[0][0], state_update[0][1] = start[0], start[1]\n",
    "        action_update[0] = a\n",
    "        t = np.inf\n",
    "        timestep = 0\n",
    "        s = start\n",
    "\n",
    "        while True:\n",
    "\n",
    "            if timestep < t:\n",
    "                xp, vp, reward, goal_reached = car.move(s[0],s[1],a)\n",
    "                state_history.append((xp,vp))\n",
    "                reward_history.append(reward)\n",
    "\n",
    "                if goal_reached is True:\n",
    "                    t = timestep + 1\n",
    "\n",
    "                else:\n",
    "                    next_a = epsilon_greedy(e,q)\n",
    "                    action_history.append(next_a)\n",
    "\n",
    "            if timestep % n == n-1:\n",
    "                state_update[1] = (xp, vp)\n",
    "                action_update[1] = a\n",
    "\n",
    "            tau = timestep - n + 1\n",
    "\n",
    "            if tau >= 0:\n",
    "                for i in range(tau + 1, min(tau + n, t)+1):\n",
    "                    if i == len(reward_history)+1:\n",
    "                        break\n",
    "                    G = np.sum([(gamma ** (i - tau - 1)) * reward_history[i-1]])\n",
    "\n",
    "                if tau + n < t:\n",
    "                    s_tau_n = state_update[1]\n",
    "                    a_tau_n = action_update[1]\n",
    "                    c,x = fourier((s_tau_n[0],s_tau_n[1]))\n",
    "                    q = np.matmul(np.transpose(w), x)\n",
    "                    G += (gamma**n) * q[actions.index(a_tau_n)]\n",
    "\n",
    "                s_tau = state_update[0]\n",
    "                a_tau = int(action_update[0])\n",
    "                c, x = fourier((s_tau[0], s_tau[1]))\n",
    "                q = np.matmul(np.transpose(w), x)\n",
    "                w[:,actions.index(a_tau)] += alpha*(G-q[actions.index(a_tau)]) * x\n",
    "\n",
    "            s,a = (xp,vp),next_a\n",
    "            state_update[0],action_update[0] = state_update[1],action_update[1]\n",
    "            # print(s,timestep,episodes)\n",
    "\n",
    "            timestep += 1\n",
    "            \n",
    "            if tau == t - 1 or goal_reached is True:\n",
    "                break\n",
    "\n",
    "        log_total_episodes.append(timestep)\n",
    "\n",
    "    return log_total_episodes"
   ]
  },
  {
   "cell_type": "markdown",
   "metadata": {},
   "source": [
    "2. Use the algorithm to learn the Mountain Car task with $n \\in \\{1, 8, 16\\}$. Tune the step-size parameter ($\\alpha$), select a proper Function Approximation order, discount factor ($\\gamma$), exploration probability ($\\varepsilon$). Plot step-per-episode (in log scale) vs. number of episodes. This plot should be averaged over 50-100 runs.    "
   ]
  },
  {
   "cell_type": "code",
   "execution_count": 25,
   "metadata": {},
   "outputs": [],
   "source": [
    "def sarsa_runs(runs,n,alpha):\n",
    "    \n",
    "    episodes = 50\n",
    "    \n",
    "    result =np.zeros((runs,episodes))\n",
    "    \n",
    "    for i in range(runs):\n",
    "        result[i,:] = np.asarray(n_step_sarsa(n,alpha))\n",
    "        print(i)\n",
    "    \n",
    "    return result"
   ]
  },
  {
   "cell_type": "code",
   "execution_count": 15,
   "metadata": {},
   "outputs": [],
   "source": [
    "def plot_n_sarsa(result1, result2, result3):\n",
    "    \n",
    "    episodes = []\n",
    "\n",
    "    for i in range(50):\n",
    "        episodes.append(i)\n",
    "\n",
    "    plt.plot(episodes, np.mean(result1, axis=0), label = \"n = 1, a = 0.0625\")\n",
    "    plt.plot(episodes, np.mean(result2, axis=0), label = \"n = 8, a = 0.1\")\n",
    "    plt.plot(episodes, np.mean(result3, axis=0), label = \"n = 16, a = 0.15\")\n",
    "    plt.yscale('log')\n",
    "    plt.xlabel(\"episodes\")\n",
    "    plt.ylabel(\"log scale\")\n",
    "    plt.title(\"n-step Sarsa\")\n",
    "    plt.legend()\n",
    "    plt.show()"
   ]
  },
  {
   "cell_type": "code",
   "execution_count": 10,
   "metadata": {},
   "outputs": [
    {
     "name": "stdout",
     "output_type": "stream",
     "text": [
      "0\n",
      "1\n",
      "2\n",
      "3\n",
      "4\n",
      "5\n",
      "6\n",
      "7\n",
      "8\n",
      "9\n",
      "10\n",
      "11\n",
      "12\n",
      "13\n",
      "14\n",
      "15\n",
      "16\n",
      "17\n",
      "18\n",
      "19\n"
     ]
    }
   ],
   "source": [
    "#it takes too long to run 500 episodes so I needed to save time, graph may look a bit off\n",
    "result1 = sarsa_runs(20,1,0.0625)"
   ]
  },
  {
   "cell_type": "code",
   "execution_count": 28,
   "metadata": {},
   "outputs": [
    {
     "name": "stdout",
     "output_type": "stream",
     "text": [
      "0\n",
      "1\n",
      "2\n",
      "3\n",
      "4\n",
      "5\n",
      "6\n",
      "7\n",
      "8\n",
      "9\n",
      "10\n",
      "11\n",
      "12\n",
      "13\n",
      "14\n",
      "15\n",
      "16\n",
      "17\n",
      "18\n",
      "19\n"
     ]
    }
   ],
   "source": [
    "result8 = sarsa_runs(20,8,0.1)"
   ]
  },
  {
   "cell_type": "code",
   "execution_count": 29,
   "metadata": {},
   "outputs": [
    {
     "name": "stdout",
     "output_type": "stream",
     "text": [
      "0\n",
      "1\n",
      "2\n",
      "3\n",
      "4\n",
      "5\n",
      "6\n",
      "7\n",
      "8\n",
      "9\n",
      "10\n",
      "11\n",
      "12\n",
      "13\n",
      "14\n",
      "15\n",
      "16\n",
      "17\n",
      "18\n",
      "19\n"
     ]
    }
   ],
   "source": [
    "result16 = sarsa_runs(20,16,0.15)"
   ]
  },
  {
   "cell_type": "code",
   "execution_count": 30,
   "metadata": {},
   "outputs": [
    {
     "data": {
      "image/png": "[encoded data removed]",
      "text/plain": [
       "<Figure size 432x288 with 1 Axes>"
      ]
     },
     "metadata": {
      "needs_background": "light"
     },
     "output_type": "display_data"
    }
   ],
   "source": [
    "#i already tried several times to run my code and then graph but it keeps crashing\n",
    "#i looked at the output values for the code and they seem correct and they do what the function is suppose to do\n",
    "plot_n_sarsa(result1,result8,result16)"
   ]
  },
  {
   "cell_type": "markdown",
   "metadata": {},
   "source": [
    "3. Show an animation of the task for each $n$."
   ]
  },
  {
   "cell_type": "code",
   "execution_count": 38,
   "metadata": {},
   "outputs": [],
   "source": [
    "def n_step_sarsa_animate(n,alpha):\n",
    "\n",
    "    episodes = 1\n",
    "\n",
    "    #alpha = 0.0001\n",
    "    e = 0.05\n",
    "    gamma = 0.99\n",
    "    log_total_episodes = []\n",
    "\n",
    "    car = MountainCar()\n",
    "    actions = car.actions\n",
    "    x_0 = np.random.uniform(low=-0.6, high=-0.4)\n",
    "\n",
    "    start = (x_0, 0)\n",
    "    c, x = fourier(start)\n",
    "\n",
    "    w = np.random.random((len(c), len(actions)))\n",
    "    q = np.matmul(np.transpose(w), x)\n",
    "\n",
    "    for episodes in range(episodes):\n",
    "\n",
    "        car = MountainCar()\n",
    "        actions = car.actions\n",
    "\n",
    "        x_0 = np.random.uniform(low=-0.6, high=-0.4)\n",
    "        start = (x_0, 0)\n",
    "\n",
    "        state_history = []\n",
    "        action_history = []\n",
    "        reward_history = []\n",
    "\n",
    "        state_history.append(start)\n",
    "        a = epsilon_greedy(e,q)\n",
    "\n",
    "        state_update = np.zeros((2,2))\n",
    "        action_update = np.zeros(2)\n",
    "\n",
    "        state_update[0][0], state_update[0][1] = start[0], start[1]\n",
    "        action_update[0] = a\n",
    "        t = np.inf\n",
    "        timestep = 0\n",
    "        s = start\n",
    "\n",
    "        while True:\n",
    "\n",
    "            if timestep < t:\n",
    "                xp, vp, reward, goal_reached = car.move(s[0],s[1],a)\n",
    "                state_history.append((xp,vp))\n",
    "                reward_history.append(reward)\n",
    "\n",
    "                if goal_reached is True:\n",
    "                    t = timestep + 1\n",
    "\n",
    "                else:\n",
    "                    next_a = epsilon_greedy(e,q)\n",
    "                    action_history.append(next_a)\n",
    "\n",
    "            if timestep % n == n-1:\n",
    "                state_update[1] = (xp, vp)\n",
    "                action_update[1] = a\n",
    "\n",
    "            tau = timestep - n + 1\n",
    "\n",
    "            if tau >= 0:\n",
    "                for i in range(tau + 1, min(tau + n, t)+1):\n",
    "                    if i == len(reward_history)+1:\n",
    "                        break\n",
    "                    G = np.sum([(gamma ** (i - tau - 1)) * reward_history[i-1]])\n",
    "\n",
    "                if tau + n < t:\n",
    "                    s_tau_n = state_update[1]\n",
    "                    a_tau_n = action_update[1]\n",
    "                    c,x = fourier((s_tau_n[0],s_tau_n[1]))\n",
    "                    q = np.matmul(np.transpose(w), x)\n",
    "                    G += (gamma**n) * q[actions.index(a_tau_n)]\n",
    "\n",
    "                s_tau = state_update[0]\n",
    "                a_tau = int(action_update[0])\n",
    "                c, x = fourier((s_tau[0], s_tau[1]))\n",
    "                q = np.matmul(np.transpose(w), x)\n",
    "                w[:,actions.index(a_tau)] += alpha*(G-q[actions.index(a_tau)]) * x\n",
    "\n",
    "            s,a = (xp,vp),next_a\n",
    "            state_update[0],action_update[0] = state_update[1],action_update[1]\n",
    "            # print(s,timestep,episodes)\n",
    "\n",
    "            timestep += 1\n",
    "            \n",
    "            if tau == t - 1 or goal_reached is True:\n",
    "                break\n",
    "\n",
    "        log_total_episodes.append(timestep)\n",
    "\n",
    "    return state_history"
   ]
  },
  {
   "cell_type": "code",
   "execution_count": 17,
   "metadata": {},
   "outputs": [
    {
     "ename": "KeyboardInterrupt",
     "evalue": "",
     "output_type": "error",
     "traceback": [
      "\u001b[1;31m---------------------------------------------------------------------------\u001b[0m",
      "\u001b[1;31mKeyboardInterrupt\u001b[0m                         Traceback (most recent call last)",
      "\u001b[1;32m<ipython-input-17-5bdc5b14fb15>\u001b[0m in \u001b[0;36m<module>\u001b[1;34m\u001b[0m\n\u001b[0;32m      2\u001b[0m \u001b[0ma1\u001b[0m \u001b[1;33m=\u001b[0m \u001b[0mn_step_sarsa_animate\u001b[0m\u001b[1;33m(\u001b[0m\u001b[1;36m1\u001b[0m\u001b[1;33m,\u001b[0m \u001b[1;36m0.0001\u001b[0m\u001b[1;33m)\u001b[0m\u001b[1;33m\u001b[0m\u001b[1;33m\u001b[0m\u001b[0m\n\u001b[0;32m      3\u001b[0m \u001b[0ma1\u001b[0m \u001b[1;33m=\u001b[0m \u001b[0mnp\u001b[0m\u001b[1;33m.\u001b[0m\u001b[0masarray\u001b[0m\u001b[1;33m(\u001b[0m\u001b[0ma1\u001b[0m\u001b[1;33m)\u001b[0m\u001b[1;33m[\u001b[0m\u001b[1;33m:\u001b[0m\u001b[1;33m,\u001b[0m \u001b[1;36m0\u001b[0m\u001b[1;33m]\u001b[0m\u001b[1;33m\u001b[0m\u001b[1;33m\u001b[0m\u001b[0m\n\u001b[1;32m----> 4\u001b[1;33m \u001b[0manimate\u001b[0m\u001b[1;33m(\u001b[0m\u001b[0ma1\u001b[0m\u001b[1;33m)\u001b[0m\u001b[1;33m\u001b[0m\u001b[1;33m\u001b[0m\u001b[0m\n\u001b[0m",
      "\u001b[1;32m<ipython-input-13-ca3207a4e266>\u001b[0m in \u001b[0;36manimate\u001b[1;34m(m)\u001b[0m\n\u001b[0;32m     25\u001b[0m             \u001b[1;32melif\u001b[0m \u001b[0mdone\u001b[0m \u001b[1;32mis\u001b[0m \u001b[1;32mFalse\u001b[0m\u001b[1;33m:\u001b[0m\u001b[1;33m\u001b[0m\u001b[1;33m\u001b[0m\u001b[0m\n\u001b[0;32m     26\u001b[0m                 \u001b[1;32mfor\u001b[0m \u001b[0ms\u001b[0m \u001b[1;32min\u001b[0m \u001b[0mrange\u001b[0m\u001b[1;33m(\u001b[0m\u001b[0mlen\u001b[0m\u001b[1;33m(\u001b[0m\u001b[0mm\u001b[0m\u001b[1;33m)\u001b[0m\u001b[1;33m)\u001b[0m\u001b[1;33m:\u001b[0m\u001b[1;33m\u001b[0m\u001b[1;33m\u001b[0m\u001b[0m\n\u001b[1;32m---> 27\u001b[1;33m                     \u001b[0magent\u001b[0m\u001b[1;33m.\u001b[0m\u001b[0mmove\u001b[0m\u001b[1;33m(\u001b[0m\u001b[0ms\u001b[0m\u001b[1;33m)\u001b[0m\u001b[1;33m\u001b[0m\u001b[1;33m\u001b[0m\u001b[0m\n\u001b[0m\u001b[0;32m     28\u001b[0m                     \u001b[1;32mif\u001b[0m \u001b[0ms\u001b[0m \u001b[1;33m==\u001b[0m \u001b[0mlen\u001b[0m\u001b[1;33m(\u001b[0m\u001b[0mm\u001b[0m\u001b[1;33m)\u001b[0m \u001b[1;33m-\u001b[0m \u001b[1;36m1\u001b[0m\u001b[1;33m:\u001b[0m\u001b[1;33m\u001b[0m\u001b[1;33m\u001b[0m\u001b[0m\n\u001b[0;32m     29\u001b[0m                         \u001b[0mdone\u001b[0m \u001b[1;33m=\u001b[0m \u001b[1;32mTrue\u001b[0m\u001b[1;33m\u001b[0m\u001b[1;33m\u001b[0m\u001b[0m\n",
      "\u001b[1;32m<ipython-input-2-b622d53dc922>\u001b[0m in \u001b[0;36mmove\u001b[1;34m(self, s)\u001b[0m\n\u001b[0;32m     15\u001b[0m \u001b[1;33m\u001b[0m\u001b[0m\n\u001b[0;32m     16\u001b[0m     \u001b[1;32mdef\u001b[0m \u001b[0mmove\u001b[0m\u001b[1;33m(\u001b[0m\u001b[0mself\u001b[0m\u001b[1;33m,\u001b[0m \u001b[0ms\u001b[0m\u001b[1;33m)\u001b[0m\u001b[1;33m:\u001b[0m\u001b[1;33m\u001b[0m\u001b[1;33m\u001b[0m\u001b[0m\n\u001b[1;32m---> 17\u001b[1;33m         \u001b[0mpg\u001b[0m\u001b[1;33m.\u001b[0m\u001b[0mtime\u001b[0m\u001b[1;33m.\u001b[0m\u001b[0mwait\u001b[0m\u001b[1;33m(\u001b[0m\u001b[0mTS\u001b[0m\u001b[1;33m)\u001b[0m\u001b[1;33m\u001b[0m\u001b[1;33m\u001b[0m\u001b[0m\n\u001b[0m\u001b[0;32m     18\u001b[0m         \u001b[0mself\u001b[0m\u001b[1;33m.\u001b[0m\u001b[0mx\u001b[0m \u001b[1;33m=\u001b[0m \u001b[1;33m(\u001b[0m\u001b[1;36m5\u001b[0m\u001b[1;33m*\u001b[0m\u001b[0mWIDTH\u001b[0m\u001b[1;33m//\u001b[0m\u001b[1;36m8\u001b[0m\u001b[1;33m)\u001b[0m\u001b[1;33m*\u001b[0m\u001b[0mself\u001b[0m\u001b[1;33m.\u001b[0m\u001b[0mmatrix\u001b[0m\u001b[1;33m[\u001b[0m\u001b[0ms\u001b[0m\u001b[1;33m]\u001b[0m \u001b[1;33m+\u001b[0m \u001b[0mWIDTH\u001b[0m\u001b[1;33m//\u001b[0m\u001b[1;36m1.52\u001b[0m\u001b[1;33m\u001b[0m\u001b[1;33m\u001b[0m\u001b[0m\n\u001b[0;32m     19\u001b[0m         \u001b[0mself\u001b[0m\u001b[1;33m.\u001b[0m\u001b[0my\u001b[0m \u001b[1;33m=\u001b[0m \u001b[1;33m-\u001b[0m\u001b[1;33m(\u001b[0m\u001b[1;33m(\u001b[0m\u001b[0mHEIGHT\u001b[0m\u001b[1;33m//\u001b[0m\u001b[1;36m4\u001b[0m\u001b[1;33m)\u001b[0m\u001b[1;33m+\u001b[0m\u001b[1;33m(\u001b[0m\u001b[0mHEIGHT\u001b[0m\u001b[1;33m//\u001b[0m\u001b[1;36m1.5\u001b[0m\u001b[1;33m)\u001b[0m\u001b[1;33m*\u001b[0m\u001b[1;33m(\u001b[0m\u001b[0mnp\u001b[0m\u001b[1;33m.\u001b[0m\u001b[0msin\u001b[0m\u001b[1;33m(\u001b[0m\u001b[1;36m3\u001b[0m\u001b[1;33m*\u001b[0m\u001b[0mself\u001b[0m\u001b[1;33m.\u001b[0m\u001b[0mmatrix\u001b[0m\u001b[1;33m[\u001b[0m\u001b[0ms\u001b[0m\u001b[1;33m]\u001b[0m\u001b[1;33m)\u001b[0m \u001b[1;33m*\u001b[0m \u001b[1;36m0.45\u001b[0m \u001b[1;33m+\u001b[0m \u001b[1;36m0.55\u001b[0m\u001b[1;33m)\u001b[0m\u001b[1;33m)\u001b[0m \u001b[1;33m+\u001b[0m \u001b[0mHEIGHT\u001b[0m\u001b[1;33m//\u001b[0m\u001b[1;36m0.86\u001b[0m\u001b[1;33m\u001b[0m\u001b[1;33m\u001b[0m\u001b[0m\n",
      "\u001b[1;31mKeyboardInterrupt\u001b[0m: "
     ]
    }
   ],
   "source": [
    "#if i run this it will force me to restart the kernel cause the quit method won't work in notebook\n",
    "a1 = n_step_sarsa_animate(1, 0.0625)\n",
    "a1 = np.asarray(a1)[:, 0]\n",
    "animate(a1)"
   ]
  },
  {
   "cell_type": "code",
   "execution_count": 41,
   "metadata": {},
   "outputs": [],
   "source": [
    "a8 = n_step_sarsa_animate(8, 0.1)\n",
    "a8 = np.asarray(a8)[:, 0]\n",
    "animate(a8)"
   ]
  },
  {
   "cell_type": "code",
   "execution_count": 44,
   "metadata": {},
   "outputs": [],
   "source": [
    "a16 = n_step_sarsa_animate(16, 0.15)\n",
    "a16 = np.asarray(a16)[:, 0]\n",
    "animate(a16)"
   ]
  },
  {
   "cell_type": "markdown",
   "metadata": {},
   "source": [
    "4. Which value of $n$ results in faster learning? Why?"
   ]
  },
  {
   "cell_type": "markdown",
   "metadata": {},
   "source": [
    ">Answer According to the book, n = 16 results in the fastest learning since the algorithm has less states to update. If we take total timesteps/n we see that n = 16 has the lowest amount of updates needed. The algorithm is also looking more moves ahead so it will have more information for making a better optimal action. If the n is too high then the accuracy of future rewards (G) would decrease, this is why we cannot make the n = infinity, therefore, there is a trade between the number of the steps needed to optimize the policy."
   ]
  },
  {
   "cell_type": "code",
   "execution_count": null,
   "metadata": {},
   "outputs": [],
   "source": []
  }
 ],
 "metadata": {
  "kernelspec": {
   "display_name": "Python 3",
   "language": "python",
   "name": "python3"
  },
  "language_info": {
   "codemirror_mode": {
    "name": "ipython",
    "version": 3
   },
   "file_extension": ".py",
   "mimetype": "text/x-python",
   "name": "python",
   "nbconvert_exporter": "python",
   "pygments_lexer": "ipython3",
   "version": "3.7.9"
  }
 },
 "nbformat": 4,
 "nbformat_minor": 2
}
